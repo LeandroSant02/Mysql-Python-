{
 "cells": [
  {
   "cell_type": "markdown",
   "metadata": {},
   "source": [
    "# Mysql & Python para Análise de dados\n",
    "Usando MySQL Connector e Python para implementar um banco de dados no MySQL Server e para criar, ler, atualizar e excluir dados nesse banco de dados.\n",
    "\n",
    "--------------\n",
    "## Introdução\n",
    "Este notebook foi desenvolvido para fins de aprendizado.\n",
    "\n",
    "O notebook leva o leitor passo a passo por todos os processos envolvidos com o uso do Python e do MySQL Connector para executar as funções CRUD padrão em um banco de dados executado no MySQL Server e extração de dados via API do Twitter.\n",
    "\n",
    "--------------\n",
    "\n",
    "## Métodos usados\n",
    "*Defining functions in Python\\\n",
    "*Database Implementation\\\n",
    "*Creating, Reading, Updating and Deleting data using SQL and Python\n",
    "\n",
    "## Tecnologias usadas\n",
    "*MySQL Community Server\\\n",
    "*MySQL Python Connector\\\n",
    "*Jupyter Notebook\\\n",
    "*pandas\n",
    "\n",
    "--------------\n",
    "\n",
    "## Fontes de dados\n",
    "Os dados utilizados foram fornecidos para resolução de um case técnico.\n",
    "\n",
    "## 1. Importação de Bibliotecas\n",
    "Nosso primeiro passo é importar Mysql connector and pandas.\n",
    "\n",
    "-----------------"
   ]
  },
  {
   "cell_type": "code",
   "execution_count": 1,
   "metadata": {},
   "outputs": [],
   "source": [
    "import mysql.connector\n",
    "import pandas as pd\n",
    "from mysql.connector import Error"
   ]
  },
  {
   "cell_type": "markdown",
   "metadata": {},
   "source": [
    "--------------- \n",
    "\n",
    "## 2. Conexão com o servidor e criação do Banco de dados\n",
    "\n",
    "### 2.1 - Definição da função de conexão com servidor.\n",
    "Em seguida, queremos definir uma função em python que se conecte ao nosso MySQL Server. Para fazer isso, usamos o método mysql.connector.connect() .\n",
    "\n",
    "Atualize a variável 'pw' com a senha de root do seu MySQL Server! Caso contrário, a conexão não pode ser feita."
   ]
  },
  {
   "cell_type": "code",
   "execution_count": 30,
   "metadata": {},
   "outputs": [
    {
     "name": "stdout",
     "output_type": "stream",
     "text": [
      "Conexao com banco Mysql concluída\n"
     ]
    }
   ],
   "source": [
    "def create_server_connection(host_name, user_name, user_password):\n",
    "    connection = None\n",
    "    try:\n",
    "        connection = mysql.connector.connect(\n",
    "            host='localhost',\n",
    "            user='root',\n",
    "            passwd=''\n",
    "        )\n",
    "        print(\"Conexao com banco Mysql concluída\")\n",
    "    except Error as err:\n",
    "        print(f\"Error: '{err}'\")\n",
    "\n",
    "    return connection\n",
    "pw = \"\" # IMPORTANTE! Coloque a senha do seu servidor Mysql aqui.\n",
    "db = \"db_botica\" # Esse é o nome do banco de dados que criaremos em nossa próxima etapa. Chame como quiser.\n",
    "\n",
    "connection = create_server_connection(\"localhost\", \"root\", pw)"
   ]
  },
  {
   "cell_type": "markdown",
   "metadata": {},
   "source": [
    "--------------\n",
    "#####  2.2 Criaçao de um banco de dados\n",
    "\n",
    "Agora definimos uma função para criar um novo banco de dados em nosso servidor. Aqui estamos usando [cursor.execute()](https://dev.mysql.com/doc/connector-python/en/connector-python-api-mysqlcursor-execute.html) para executar o comando [CREATE DATABASE](https://dev.mysql.com/doc/refman/8.0/en/creating-database.html)."
   ]
  },
  {
   "cell_type": "code",
   "execution_count": 31,
   "metadata": {},
   "outputs": [
    {
     "name": "stdout",
     "output_type": "stream",
     "text": [
      "Database criado com sucesso\n"
     ]
    }
   ],
   "source": [
    "def create_database(connection, query):\n",
    "    cursor = connection.cursor()\n",
    "    try:\n",
    "        cursor.execute(query)\n",
    "        print(\"Database criado com sucesso\")\n",
    "    except Error as err:\n",
    "        print(f\"Error: '{err}'\")\n",
    "\n",
    "create_database_query = \"CREATE DATABASE db_botica\"\n",
    "create_database(connection, create_database_query)"
   ]
  },
  {
   "cell_type": "markdown",
   "metadata": {},
   "source": [
    "-------------\n",
    "\n",
    "#### 2.3 - Modificar a função de conexão do servidor, criar a função de conexão do banco de dados\n",
    "\n",
    "Agora que criamos um banco de dados, vamos modificar nossa função create_server_connection para criar uma nova função para conectar diretamente a esse banco de dados. Isso será mais útil do que apenas conectar-se ao nosso servidor."
   ]
  },
  {
   "cell_type": "code",
   "execution_count": 32,
   "metadata": {},
   "outputs": [],
   "source": [
    "def create_db_connection(host_name, user_name, user_password, db_name):\n",
    "    connection = None\n",
    "    try:\n",
    "        connection = mysql.connector.connect(\n",
    "            host='localhost',\n",
    "            user='root',\n",
    "            database='db_botica'\n",
    "        )\n",
    "        print(\"Conexão com banco Mysql concluída\")\n",
    "    except Error as err:\n",
    "        print(f\"Error: '{err}'\")\n",
    "\n",
    "    return connection"
   ]
  },
  {
   "cell_type": "markdown",
   "metadata": {},
   "source": [
    "----------\n",
    "#### 2.4 - Definir Função de Execução de Consulta\n",
    "\n",
    "O passo final desta etapa é criar uma função que nos permitirá executar consultas escritas em SQL. Isso vai ser extremamente útil!\n",
    "\n",
    "Novamente, usamos [cursor.execute()](https://dev.mysql.com/doc/connector-python/en/connector-python-api-mysqlcursor-execute.html) para executar nossos comandos.\n"
   ]
  },
  {
   "cell_type": "code",
   "execution_count": 33,
   "metadata": {},
   "outputs": [],
   "source": [
    "def execute_query(connection, query):\n",
    "    cursor = connection.cursor()\n",
    "    try:\n",
    "        cursor.execute(query)#\n",
    "        connection.commit()\n",
    "        print(\"Query executada\")\n",
    "    except Error as err:\n",
    "        print(f\"Error: '{err}'\")"
   ]
  },
  {
   "cell_type": "markdown",
   "metadata": {},
   "source": [
    "-------------------\n",
    "\n",
    "### 3. Leitura dos arquivos\n",
    "\n",
    "#### 3.1 - Importação dos arquivos\n",
    "Agora vamos importar os arquivos que vamos usar e tranforma-los em um [Dataframe](https://pandas.pydata.org/docs/reference/api/pandas.DataFrame.html)\n",
    ", usando nossas funções recém-definidas. Importante lembrar que os arquivos estão no mesmo local do notebook.\n",
    "\n"
   ]
  },
  {
   "cell_type": "code",
   "execution_count": 2,
   "metadata": {},
   "outputs": [],
   "source": [
    "df1 = pd.read_excel('Base_2017.xlsx')\n",
    "df2 = pd.read_excel('Base_2018.xlsx')\n",
    "df3 = pd.read_excel('Base_2019.xlsx')"
   ]
  },
  {
   "cell_type": "markdown",
   "metadata": {},
   "source": [
    "-------------\n",
    "\n",
    "#### 3.2 - Concatenação dos três arquivos.\n",
    "\n",
    "Unimos os três dataframes que possuem os mesmos numeros de colunas e linhas, criando assim uma nova tabela com os dados das tres tabelas.xlsx.\n"
   ]
  },
  {
   "cell_type": "code",
   "execution_count": 35,
   "metadata": {},
   "outputs": [],
   "source": [
    "total_vendas = pd.concat([df1,df2,df3],axis=0, ignore_index=True, join='outer')"
   ]
  },
  {
   "cell_type": "code",
   "execution_count": 36,
   "metadata": {},
   "outputs": [
    {
     "data": {
      "text/html": [
       "<div>\n",
       "<style scoped>\n",
       "    .dataframe tbody tr th:only-of-type {\n",
       "        vertical-align: middle;\n",
       "    }\n",
       "\n",
       "    .dataframe tbody tr th {\n",
       "        vertical-align: top;\n",
       "    }\n",
       "\n",
       "    .dataframe thead th {\n",
       "        text-align: right;\n",
       "    }\n",
       "</style>\n",
       "<table border=\"1\" class=\"dataframe\">\n",
       "  <thead>\n",
       "    <tr style=\"text-align: right;\">\n",
       "      <th></th>\n",
       "      <th>ID_MARCA</th>\n",
       "      <th>MARCA</th>\n",
       "      <th>ID_LINHA</th>\n",
       "      <th>LINHA</th>\n",
       "      <th>DATA_VENDA</th>\n",
       "      <th>QTD_VENDA</th>\n",
       "    </tr>\n",
       "  </thead>\n",
       "  <tbody>\n",
       "    <tr>\n",
       "      <th>0</th>\n",
       "      <td>4</td>\n",
       "      <td>VULT</td>\n",
       "      <td>2</td>\n",
       "      <td>PERFUMARIA</td>\n",
       "      <td>2019-01-15</td>\n",
       "      <td>7</td>\n",
       "    </tr>\n",
       "    <tr>\n",
       "      <th>1</th>\n",
       "      <td>4</td>\n",
       "      <td>VULT</td>\n",
       "      <td>2</td>\n",
       "      <td>PERFUMARIA</td>\n",
       "      <td>2019-10-12</td>\n",
       "      <td>2</td>\n",
       "    </tr>\n",
       "    <tr>\n",
       "      <th>2</th>\n",
       "      <td>3</td>\n",
       "      <td>QUEM DISSE BERENICE</td>\n",
       "      <td>5</td>\n",
       "      <td>HIDRATANTES</td>\n",
       "      <td>2019-09-01</td>\n",
       "      <td>3</td>\n",
       "    </tr>\n",
       "    <tr>\n",
       "      <th>3</th>\n",
       "      <td>3</td>\n",
       "      <td>QUEM DISSE BERENICE</td>\n",
       "      <td>3</td>\n",
       "      <td>MAQUIAGEM</td>\n",
       "      <td>2019-07-29</td>\n",
       "      <td>17</td>\n",
       "    </tr>\n",
       "    <tr>\n",
       "      <th>4</th>\n",
       "      <td>1</td>\n",
       "      <td>BOTICÁRIO</td>\n",
       "      <td>4</td>\n",
       "      <td>SOLAR</td>\n",
       "      <td>2019-11-15</td>\n",
       "      <td>19</td>\n",
       "    </tr>\n",
       "  </tbody>\n",
       "</table>\n",
       "</div>"
      ],
      "text/plain": [
       "   ID_MARCA                MARCA  ID_LINHA        LINHA DATA_VENDA  QTD_VENDA\n",
       "0         4                 VULT         2   PERFUMARIA 2019-01-15          7\n",
       "1         4                 VULT         2   PERFUMARIA 2019-10-12          2\n",
       "2         3  QUEM DISSE BERENICE         5  HIDRATANTES 2019-09-01          3\n",
       "3         3  QUEM DISSE BERENICE         3    MAQUIAGEM 2019-07-29         17\n",
       "4         1            BOTICÁRIO         4        SOLAR 2019-11-15         19"
      ]
     },
     "execution_count": 36,
     "metadata": {},
     "output_type": "execute_result"
    }
   ],
   "source": [
    "total_vendas.head()"
   ]
  },
  {
   "cell_type": "markdown",
   "metadata": {},
   "source": [
    "--------------------------\n",
    "#### 3.3 - Formataçao dos nomes das colunas\n",
    "\n",
    "As colunas que antes eram maiúsculas passam a ser minúsculas.\n"
   ]
  },
  {
   "cell_type": "code",
   "execution_count": 37,
   "metadata": {},
   "outputs": [],
   "source": [
    "total_vendas.rename(columns={'ID_MARCA': 'id_marca', 'MARCA':'marca', 'ID_LINHA':'id_linha', 'LINHA':'linha','DATA_VENDA':'dt_venda','QTD_VENDA':'qtd_vendas'}, inplace = True)"
   ]
  },
  {
   "cell_type": "code",
   "execution_count": 38,
   "metadata": {},
   "outputs": [
    {
     "data": {
      "text/html": [
       "<div>\n",
       "<style scoped>\n",
       "    .dataframe tbody tr th:only-of-type {\n",
       "        vertical-align: middle;\n",
       "    }\n",
       "\n",
       "    .dataframe tbody tr th {\n",
       "        vertical-align: top;\n",
       "    }\n",
       "\n",
       "    .dataframe thead th {\n",
       "        text-align: right;\n",
       "    }\n",
       "</style>\n",
       "<table border=\"1\" class=\"dataframe\">\n",
       "  <thead>\n",
       "    <tr style=\"text-align: right;\">\n",
       "      <th></th>\n",
       "      <th>id_marca</th>\n",
       "      <th>marca</th>\n",
       "      <th>id_linha</th>\n",
       "      <th>linha</th>\n",
       "      <th>dt_venda</th>\n",
       "      <th>qtd_vendas</th>\n",
       "    </tr>\n",
       "  </thead>\n",
       "  <tbody>\n",
       "    <tr>\n",
       "      <th>0</th>\n",
       "      <td>4</td>\n",
       "      <td>VULT</td>\n",
       "      <td>2</td>\n",
       "      <td>PERFUMARIA</td>\n",
       "      <td>2019-01-15</td>\n",
       "      <td>7</td>\n",
       "    </tr>\n",
       "    <tr>\n",
       "      <th>1</th>\n",
       "      <td>4</td>\n",
       "      <td>VULT</td>\n",
       "      <td>2</td>\n",
       "      <td>PERFUMARIA</td>\n",
       "      <td>2019-10-12</td>\n",
       "      <td>2</td>\n",
       "    </tr>\n",
       "    <tr>\n",
       "      <th>2</th>\n",
       "      <td>3</td>\n",
       "      <td>QUEM DISSE BERENICE</td>\n",
       "      <td>5</td>\n",
       "      <td>HIDRATANTES</td>\n",
       "      <td>2019-09-01</td>\n",
       "      <td>3</td>\n",
       "    </tr>\n",
       "    <tr>\n",
       "      <th>3</th>\n",
       "      <td>3</td>\n",
       "      <td>QUEM DISSE BERENICE</td>\n",
       "      <td>3</td>\n",
       "      <td>MAQUIAGEM</td>\n",
       "      <td>2019-07-29</td>\n",
       "      <td>17</td>\n",
       "    </tr>\n",
       "    <tr>\n",
       "      <th>4</th>\n",
       "      <td>1</td>\n",
       "      <td>BOTICÁRIO</td>\n",
       "      <td>4</td>\n",
       "      <td>SOLAR</td>\n",
       "      <td>2019-11-15</td>\n",
       "      <td>19</td>\n",
       "    </tr>\n",
       "  </tbody>\n",
       "</table>\n",
       "</div>"
      ],
      "text/plain": [
       "   id_marca                marca  id_linha        linha   dt_venda  qtd_vendas\n",
       "0         4                 VULT         2   PERFUMARIA 2019-01-15           7\n",
       "1         4                 VULT         2   PERFUMARIA 2019-10-12           2\n",
       "2         3  QUEM DISSE BERENICE         5  HIDRATANTES 2019-09-01           3\n",
       "3         3  QUEM DISSE BERENICE         3    MAQUIAGEM 2019-07-29          17\n",
       "4         1            BOTICÁRIO         4        SOLAR 2019-11-15          19"
      ]
     },
     "execution_count": 38,
     "metadata": {},
     "output_type": "execute_result"
    }
   ],
   "source": [
    "total_vendas.head()"
   ]
  },
  {
   "cell_type": "code",
   "execution_count": 39,
   "metadata": {
    "scrolled": false
   },
   "outputs": [
    {
     "data": {
      "text/plain": [
       "(3000, 6)"
      ]
     },
     "execution_count": 39,
     "metadata": {},
     "output_type": "execute_result"
    }
   ],
   "source": [
    "total_vendas.shape"
   ]
  },
  {
   "cell_type": "code",
   "execution_count": 41,
   "metadata": {},
   "outputs": [
    {
     "data": {
      "text/html": [
       "<div>\n",
       "<style scoped>\n",
       "    .dataframe tbody tr th:only-of-type {\n",
       "        vertical-align: middle;\n",
       "    }\n",
       "\n",
       "    .dataframe tbody tr th {\n",
       "        vertical-align: top;\n",
       "    }\n",
       "\n",
       "    .dataframe thead th {\n",
       "        text-align: right;\n",
       "    }\n",
       "</style>\n",
       "<table border=\"1\" class=\"dataframe\">\n",
       "  <thead>\n",
       "    <tr style=\"text-align: right;\">\n",
       "      <th></th>\n",
       "      <th>id_marca</th>\n",
       "      <th>marca</th>\n",
       "      <th>id_linha</th>\n",
       "      <th>linha</th>\n",
       "      <th>dt_venda</th>\n",
       "      <th>qtd_vendas</th>\n",
       "    </tr>\n",
       "  </thead>\n",
       "  <tbody>\n",
       "    <tr>\n",
       "      <th>0</th>\n",
       "      <td>4</td>\n",
       "      <td>VULT</td>\n",
       "      <td>2</td>\n",
       "      <td>PERFUMARIA</td>\n",
       "      <td>2019-01-15</td>\n",
       "      <td>7</td>\n",
       "    </tr>\n",
       "    <tr>\n",
       "      <th>1</th>\n",
       "      <td>4</td>\n",
       "      <td>VULT</td>\n",
       "      <td>2</td>\n",
       "      <td>PERFUMARIA</td>\n",
       "      <td>2019-10-12</td>\n",
       "      <td>2</td>\n",
       "    </tr>\n",
       "    <tr>\n",
       "      <th>2</th>\n",
       "      <td>3</td>\n",
       "      <td>QUEM DISSE BERENICE</td>\n",
       "      <td>5</td>\n",
       "      <td>HIDRATANTES</td>\n",
       "      <td>2019-09-01</td>\n",
       "      <td>3</td>\n",
       "    </tr>\n",
       "    <tr>\n",
       "      <th>3</th>\n",
       "      <td>3</td>\n",
       "      <td>QUEM DISSE BERENICE</td>\n",
       "      <td>3</td>\n",
       "      <td>MAQUIAGEM</td>\n",
       "      <td>2019-07-29</td>\n",
       "      <td>17</td>\n",
       "    </tr>\n",
       "    <tr>\n",
       "      <th>4</th>\n",
       "      <td>1</td>\n",
       "      <td>BOTICÁRIO</td>\n",
       "      <td>4</td>\n",
       "      <td>SOLAR</td>\n",
       "      <td>2019-11-15</td>\n",
       "      <td>19</td>\n",
       "    </tr>\n",
       "    <tr>\n",
       "      <th>...</th>\n",
       "      <td>...</td>\n",
       "      <td>...</td>\n",
       "      <td>...</td>\n",
       "      <td>...</td>\n",
       "      <td>...</td>\n",
       "      <td>...</td>\n",
       "    </tr>\n",
       "    <tr>\n",
       "      <th>2995</th>\n",
       "      <td>1</td>\n",
       "      <td>BOTICÁRIO</td>\n",
       "      <td>2</td>\n",
       "      <td>PERFUMARIA</td>\n",
       "      <td>2019-11-19</td>\n",
       "      <td>14</td>\n",
       "    </tr>\n",
       "    <tr>\n",
       "      <th>2996</th>\n",
       "      <td>5</td>\n",
       "      <td>BELEZA NA WEB</td>\n",
       "      <td>2</td>\n",
       "      <td>PERFUMARIA</td>\n",
       "      <td>2019-12-14</td>\n",
       "      <td>5</td>\n",
       "    </tr>\n",
       "    <tr>\n",
       "      <th>2997</th>\n",
       "      <td>2</td>\n",
       "      <td>EUDORA</td>\n",
       "      <td>4</td>\n",
       "      <td>SOLAR</td>\n",
       "      <td>2019-10-03</td>\n",
       "      <td>9</td>\n",
       "    </tr>\n",
       "    <tr>\n",
       "      <th>2998</th>\n",
       "      <td>3</td>\n",
       "      <td>QUEM DISSE BERENICE</td>\n",
       "      <td>3</td>\n",
       "      <td>MAQUIAGEM</td>\n",
       "      <td>2019-03-03</td>\n",
       "      <td>20</td>\n",
       "    </tr>\n",
       "    <tr>\n",
       "      <th>2999</th>\n",
       "      <td>4</td>\n",
       "      <td>VULT</td>\n",
       "      <td>2</td>\n",
       "      <td>PERFUMARIA</td>\n",
       "      <td>2019-09-08</td>\n",
       "      <td>10</td>\n",
       "    </tr>\n",
       "  </tbody>\n",
       "</table>\n",
       "<p>3000 rows × 6 columns</p>\n",
       "</div>"
      ],
      "text/plain": [
       "      id_marca                marca  id_linha        linha   dt_venda  \\\n",
       "0            4                 VULT         2   PERFUMARIA 2019-01-15   \n",
       "1            4                 VULT         2   PERFUMARIA 2019-10-12   \n",
       "2            3  QUEM DISSE BERENICE         5  HIDRATANTES 2019-09-01   \n",
       "3            3  QUEM DISSE BERENICE         3    MAQUIAGEM 2019-07-29   \n",
       "4            1            BOTICÁRIO         4        SOLAR 2019-11-15   \n",
       "...        ...                  ...       ...          ...        ...   \n",
       "2995         1            BOTICÁRIO         2   PERFUMARIA 2019-11-19   \n",
       "2996         5        BELEZA NA WEB         2   PERFUMARIA 2019-12-14   \n",
       "2997         2               EUDORA         4        SOLAR 2019-10-03   \n",
       "2998         3  QUEM DISSE BERENICE         3    MAQUIAGEM 2019-03-03   \n",
       "2999         4                 VULT         2   PERFUMARIA 2019-09-08   \n",
       "\n",
       "      qtd_vendas  \n",
       "0              7  \n",
       "1              2  \n",
       "2              3  \n",
       "3             17  \n",
       "4             19  \n",
       "...          ...  \n",
       "2995          14  \n",
       "2996           5  \n",
       "2997           9  \n",
       "2998          20  \n",
       "2999          10  \n",
       "\n",
       "[3000 rows x 6 columns]"
      ]
     },
     "execution_count": 41,
     "metadata": {},
     "output_type": "execute_result"
    }
   ],
   "source": [
    "total_vendas"
   ]
  },
  {
   "cell_type": "markdown",
   "metadata": {},
   "source": [
    "## 4. Criando a tabela.\n",
    "\n",
    "### 4.1 - Criação da tabela com total de vendas.\n",
    "\n",
    "Crio a primeira tabela dentro de nosso banco de dados, usando nossas funções ja definidas."
   ]
  },
  {
   "cell_type": "code",
   "execution_count": 43,
   "metadata": {
    "scrolled": true
   },
   "outputs": [
    {
     "name": "stdout",
     "output_type": "stream",
     "text": [
      "Conexão com banco Mysql concluída\n",
      "Query executada\n"
     ]
    }
   ],
   "source": [
    "create_vendas_table = \"\"\"\n",
    "CREATE TABLE total_vendas(\n",
    "    id_marca INT,\n",
    "    marca TEXT,\n",
    "    id_linha INTEGER,\n",
    "    linha TEXT,\n",
    "    dt_venda date,\n",
    "    qtd_vendas Int );\n",
    "\"\"\"\n",
    "\n",
    "connection = create_db_connection('localhost', \"root\", pw, db) # Conexao com banco de dados\n",
    "execute_query(connection, create_vendas_table) # Execuçao da query "
   ]
  },
  {
   "cell_type": "markdown",
   "metadata": {},
   "source": [
    "### 4.2  - Leitura, população e  exportação dos dados.\n",
    "\n",
    "Através de um loop, todas linhas do dataframe sao lidos e exportados para o banco de dados.\n",
    "\n"
   ]
  },
  {
   "cell_type": "code",
   "execution_count": null,
   "metadata": {},
   "outputs": [],
   "source": [
    "for i, DADOS  in enumerate (total_vendas['qtd_vendas']):\n",
    "    id_marca = total_vendas.loc[i,'id_marca']\n",
    "    marca  = total_vendas.loc[i,'marca']\n",
    "    id_linha = total_vendas.loc[i,'id_linha']\n",
    "    linha = total_vendas.loc[i,'linha']\n",
    "    dt_venda = total_vendas.loc[i,'dt_venda']\n",
    "    qtd_vendas = total_vendas.loc[i,'qtd_vendas']\n",
    "    \n",
    "    connection = create_db_connection('localhost', \"root\", pw, db)\n",
    "    dados = '('+'\\''+str(id_marca)+'\\''+',\\''+str(marca)+'\\''+',\\''+str(id_linha)+'\\''+',\\''+str(linha)+'\\''+',\\''+str(dt_venda)+'\\''+',\\''+str(qtd_vendas)+'\\''+')'\n",
    "    inserir_no_banco = \"\"\"INSERT INTO `total_vendas`(`id_marca`, `marca`, `id_linha`, `linha`, `dt_venda`, `qtd_vendas`) VALUES\"\"\"\n",
    "    comando = inserir_no_banco + dados    \n",
    "    \n",
    "    try:\n",
    "        execute_query(connection, comando)\n",
    "    except:\n",
    "        continue"
   ]
  },
  {
   "cell_type": "markdown",
   "metadata": {},
   "source": [
    "# 4.3 - Criação das tabelas de visualização com as informações.\n",
    "\n",
    "Para consumo e visualização por outra área, foi necessário modelar 4 novas tabelas e implementar processos \n",
    "que façam as transformações necessárias e insiram as seguintes visões nas tabelas:\n",
    "\n",
    "Tabela1: Consolidado de vendas por ano e mês;\n",
    "Tabela2: Consolidado de vendas por marca e linha;\n",
    "Tabela3: Consolidado de vendas por marca, ano e mês;\n",
    "Tabela4: Consolidado de vendas por linha, ano e mês;"
   ]
  },
  {
   "cell_type": "code",
   "execution_count": 45,
   "metadata": {},
   "outputs": [
    {
     "name": "stdout",
     "output_type": "stream",
     "text": [
      "Conexão com banco Mysql concluída\n",
      "Query executada\n",
      "Query executada\n",
      "Query executada\n",
      "Query executada\n"
     ]
    }
   ],
   "source": [
    "create_consolidado_vendas_ano_mes = \"\"\"\n",
    "CREATE VIEW Tabela1 AS\n",
    "SELECT SUM(qtd_vendas) AS total_de_vendas, \n",
    "DATE_FORMAT(dt_venda, '%Y-%m') AS Ano_mes\n",
    "FROM total_vendas \n",
    "GROUP BY YEAR(dt_venda), MONTH(dt_venda)\n",
    "ORDER BY MONTH(dt_venda); \n",
    "\"\"\"\n",
    "create_consolidado_vendas_marca_linha = \"\"\"\n",
    "CREATE VIEW Tabela2 AS\n",
    "SELECT id_marca,marca,id_linha, linha, SUM(qtd_vendas) AS total_de_vendas\n",
    "FROM total_vendas \n",
    "GROUP BY marca \n",
    "ORDER BY `id_marca` ASC;\"\"\"\n",
    "\n",
    "create_consolidado_vendas_marca_ano_mes = \"\"\"\n",
    "CREATE VIEW Tabela3 AS\n",
    "SELECT id_marca,marca, SUM(qtd_vendas) AS total_de_vendas\n",
    "FROM total_vendas \n",
    "GROUP BY marca \n",
    "ORDER BY `id_marca` ASC;\"\"\"\n",
    "\n",
    "create_consolidado_vendas_linha_ano_mes = \"\"\"\n",
    "CREATE VIEW Tabela4 AS\n",
    "SELECT id_linha,linha, SUM(qtd_vendas) AS total_de_vendas\n",
    "FROM total_vendas \n",
    "GROUP BY marca \n",
    "ORDER BY total_de_vendas ASC;\"\"\"\n",
    "\n",
    "connection = create_db_connection('127.0.0.1', \"root\", pw, db)\n",
    "execute_query(connection, create_consolidado_vendas_ano_mes)\n",
    "execute_query(connection, create_consolidado_vendas_marca_linha)\n",
    "execute_query(connection, create_consolidado_vendas_marca_ano_mes)\n",
    "execute_query(connection, create_consolidado_vendas_linha_ano_mes)"
   ]
  },
  {
   "cell_type": "markdown",
   "metadata": {},
   "source": [
    "# 5. Consumo de dados com python através da API do Twitter.\n",
    "\n",
    "### 5.1 - Através do API do twitter criei um processo que salva os nomes dos usuários e o texto dos twitts.\n",
    "\n",
    "Após criar uma conta de acesso comum ao Twitter, acessar https://developer.twitter.com/en/apply-for-access e criar uma conta \n",
    "de desenvolvedor para extraçao de dados baseado em parametros definidos e a partir disso, salvar os nomes e os twitts."
   ]
  },
  {
   "cell_type": "markdown",
   "metadata": {},
   "source": [
    "### 5.2 - Importação da biblioteca para fazer a conexão com a API.\n"
   ]
  },
  {
   "cell_type": "code",
   "execution_count": null,
   "metadata": {},
   "outputs": [],
   "source": [
    "import tweepy as tw"
   ]
  },
  {
   "cell_type": "markdown",
   "metadata": {},
   "source": [
    "### 5.3 - Após criado o app, acesse o mesmo e gere o token e token secret"
   ]
  },
  {
   "cell_type": "code",
   "execution_count": null,
   "metadata": {},
   "outputs": [],
   "source": [
    "bearer_token ='AAAAAAAAAAAAAAAAAAAAAL3beQEAAAAAYz5B5pK%2FZKrYxOXejHhDVp3wNmI%3Dc2ljhc0SZp6wYWnSVif8HtIu58xZM9amFx2R4yWvj88s1shg2P'\n",
    "consumer_key = 'ZlAdU2oj5V2PYrX7FCmHM0PQK'\n",
    "consumer_secret = 'EA9WaibN9G5NmRMvljSkdcdSV80rlnBrYBWfDy5s7DLjKZ3uR4N'\n",
    "access_token = '1543932014180564993-2yt2JjdxVKKNXzrr0Cau6BLiReBbo7'\n",
    "access_token_secret = 'GFS4XODc0rWouILidXkFpccue2g39aXFCQVpuuNV29mjw'"
   ]
  },
  {
   "cell_type": "code",
   "execution_count": 35,
   "metadata": {},
   "outputs": [],
   "source": [
    "#Criando o client \n",
    "cliente = tw.Client(bearer_token=bearer_token, consumer_key=consumer_key, consumer_secret=consumer_secret, access_token=access_token, access_token_secret=access_token_secret)"
   ]
  },
  {
   "cell_type": "code",
   "execution_count": 36,
   "metadata": {},
   "outputs": [],
   "source": [
    "pesquisa = cliente.search_recent_tweets(query='Boticário',tweet_fields= ['lang'], max_results=50,expansions =['author_id'])"
   ]
  },
  {
   "cell_type": "code",
   "execution_count": 37,
   "metadata": {},
   "outputs": [],
   "source": [
    "users = {u['id']:u for u in pesquisa.includes['users']}\n",
    "lang = 'pt'"
   ]
  },
  {
   "cell_type": "code",
   "execution_count": 1,
   "metadata": {},
   "outputs": [],
   "source": [
    "#Criaçao da tabela para os tweets\n",
    "twitter_table = \"\"\" \n",
    "CREATE TABLE twitter_table(\n",
    "    nome_usuario text,\n",
    "    texto_twitts text);\"\"\"\n",
    "\n",
    "connection = create_db_connection('127.0.0.1', \"root\", pw, db)\n",
    "execute_query(connection, twitter_table)"
   ]
  },
  {
   "cell_type": "markdown",
   "metadata": {},
   "source": [
    "### 5.4 - Leitura dos twitts linha por linha filtrando twitts e nomes"
   ]
  },
  {
   "cell_type": "code",
   "execution_count": null,
   "metadata": {},
   "outputs": [],
   "source": [
    "for tweet in pesquisa.data:\n",
    "    texto =tweet.text\n",
    "    if users[tweet.author_id]:\n",
    "        user = users[tweet.author_id]\n",
    "        print(f'Usuário(a):{user.username}')\n",
    "        if('RT' in texto):\n",
    "            posicao = texto.find(':')\n",
    "            texto = texto [posicao+2:]\n",
    "            print(f'Mensagem:{texto}')\n",
    "            \n",
    "          \n",
    "    dados = '('+'\\''+str(user.name)+'\\''+',\\''+str(texto)+'\\''+')'\n",
    "    inserir_no_banco = \"\"\"INSERT INTO `twitter_table`(`nome_usuario`, `texto_twitts`) VALUES\"\"\"\n",
    "    comando = inserir_no_banco + dados\n",
    "    try:\n",
    "        execute_query(connection, comando)\n",
    "    except:\n",
    "        continue\n",
    "\n",
    "            \n",
    "connection = create_db_connection('127.0.0.1', \"root\", pw, db)\n",
    "execute_query(connection, comando)"
   ]
  }
 ],
 "metadata": {
  "kernelspec": {
   "display_name": "Python 3",
   "language": "python",
   "name": "python3"
  },
  "language_info": {
   "codemirror_mode": {
    "name": "ipython",
    "version": 3
   },
   "file_extension": ".py",
   "mimetype": "text/x-python",
   "name": "python",
   "nbconvert_exporter": "python",
   "pygments_lexer": "ipython3",
   "version": "3.8.5"
  }
 },
 "nbformat": 4,
 "nbformat_minor": 4
}
